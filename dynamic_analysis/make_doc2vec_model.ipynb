{
 "cells": [
  {
   "cell_type": "markdown",
   "metadata": {},
   "source": [
    "# 1. 저장된 API 시퀀스 불러오기"
   ]
  },
  {
   "cell_type": "code",
   "execution_count": 3,
   "metadata": {},
   "outputs": [],
   "source": [
    "import csv"
   ]
  },
  {
   "cell_type": "code",
   "execution_count": 4,
   "metadata": {},
   "outputs": [],
   "source": [
    "with open('./software_feature/behavior_api_order.csv', 'r', encoding='utf-8') as f:\n",
    "    lines = csv.reader(f)\n",
    "    software_sentences = [line for line in lines]"
   ]
  },
  {
   "cell_type": "code",
   "execution_count": 5,
   "metadata": {},
   "outputs": [],
   "source": [
    "with open('./malware_feature/behavior_api_order.csv', 'r', encoding='utf-8') as f:\n",
    "    lines = csv.reader(f)\n",
    "    malware_sentences = [line for line in lines]"
   ]
  },
  {
   "cell_type": "code",
   "execution_count": 17,
   "metadata": {},
   "outputs": [
    {
     "data": {
      "text/plain": [
       "['GetSystemTimeAsFileTime',\n",
       " 'GetFileAttributesW',\n",
       " 'GetFileAttributesW',\n",
       " 'CreateActCtxW',\n",
       " 'LdrLoadDll',\n",
       " 'NtAllocateVirtualMemory',\n",
       " 'NtAllocateVirtualMemory',\n",
       " 'NtFreeVirtualMemory',\n",
       " 'LoadStringW',\n",
       " 'MessageBoxTimeoutW',\n",
       " 'NtTerminateProcess',\n",
       " 'NtTerminateProcess',\n",
       " 'LdrGetProcedureAddress',\n",
       " 'NtFreeVirtualMemory',\n",
       " 'LdrGetDllHandle',\n",
       " 'LdrGetProcedureAddress',\n",
       " 'NtUnmapViewOfSection',\n",
       " 'SetUnhandledExceptionFilter',\n",
       " 'NtFreeVirtualMemory',\n",
       " 'NtUnmapViewOfSection',\n",
       " 'NtClose',\n",
       " 'GetSystemMetrics',\n",
       " 'LdrUnloadDll',\n",
       " 'NtClose',\n",
       " 'NtClose',\n",
       " 'LdrGetDllHandle',\n",
       " 'LdrGetProcedureAddress',\n",
       " 'NtClose',\n",
       " 'NtClose',\n",
       " 'NtClose',\n",
       " 'NtClose',\n",
       " 'NtClose',\n",
       " 'NtClose',\n",
       " 'NtClose',\n",
       " 'NtClose',\n",
       " 'NtFreeVirtualMemory',\n",
       " 'SetUnhandledExceptionFilter',\n",
       " 'NtTerminateProcess']"
      ]
     },
     "execution_count": 17,
     "metadata": {},
     "output_type": "execute_result"
    }
   ],
   "source": [
    "software_sentences[0]# 1번째 소프트웨어의 동적 API 시퀀스"
   ]
  },
  {
   "cell_type": "code",
   "execution_count": 20,
   "metadata": {},
   "outputs": [
    {
     "data": {
      "text/plain": [
       "2807"
      ]
     },
     "execution_count": 20,
     "metadata": {},
     "output_type": "execute_result"
    }
   ],
   "source": [
    "len(software_sentences)# 분석할 소프트웨어의 개수"
   ]
  },
  {
   "cell_type": "code",
   "execution_count": 21,
   "metadata": {},
   "outputs": [
    {
     "data": {
      "text/plain": [
       "6056"
      ]
     },
     "execution_count": 21,
     "metadata": {},
     "output_type": "execute_result"
    }
   ],
   "source": [
    "len(malware_sentences)# 분석할 악성코드의 개수"
   ]
  },
  {
   "cell_type": "markdown",
   "metadata": {},
   "source": [
    "# 2. TaggedDocument를 사용하여 Doc2Vec 모델을 생성할 수 있게 변환\n",
    "모든 API 시퀀스 리스트를 일종의 문서(Document)로 생각하고 각 문서마다 태그를 입력한다."
   ]
  },
  {
   "cell_type": "code",
   "execution_count": 24,
   "metadata": {},
   "outputs": [],
   "source": [
    "from gensim.models.doc2vec import Doc2Vec, TaggedDocument"
   ]
  },
  {
   "cell_type": "code",
   "execution_count": 40,
   "metadata": {},
   "outputs": [],
   "source": [
    "tagged_data =[]\n",
    "#word = ['word1', 'word2', 'word3', 'word4'....], tags = ['software'] 소프트웨어\n",
    "for i,sentence in enumerate(software_sentences):\n",
    "    tagged_data.append(TaggedDocument(words = sentence, tags = ['software_'+str(i)]))\n",
    "\n",
    "#word = ['word1', 'word2', 'word3', 'word4'....], tags = ['malware'] 악성코드\n",
    "for i,sentence in enumerate(malware_sentences):\n",
    "    tagged_data.append(TaggedDocument(words =sentence, tags = ['malware_'+str(i)]))"
   ]
  },
  {
   "cell_type": "code",
   "execution_count": 41,
   "metadata": {},
   "outputs": [
    {
     "data": {
      "text/plain": [
       "8863"
      ]
     },
     "execution_count": 41,
     "metadata": {},
     "output_type": "execute_result"
    }
   ],
   "source": [
    "len(tagged_data)#8863개의 파일"
   ]
  },
  {
   "cell_type": "code",
   "execution_count": 28,
   "metadata": {},
   "outputs": [
    {
     "data": {
      "text/plain": [
       "TaggedDocument(words=['GetSystemTimeAsFileTime', 'GetFileAttributesW', 'GetFileAttributesW', 'CreateActCtxW', 'LdrLoadDll', 'NtAllocateVirtualMemory', 'NtAllocateVirtualMemory', 'NtFreeVirtualMemory', 'LoadStringW', 'MessageBoxTimeoutW', 'NtTerminateProcess', 'NtTerminateProcess', 'LdrGetProcedureAddress', 'NtFreeVirtualMemory', 'LdrGetDllHandle', 'LdrGetProcedureAddress', 'NtUnmapViewOfSection', 'SetUnhandledExceptionFilter', 'NtFreeVirtualMemory', 'NtUnmapViewOfSection', 'NtClose', 'GetSystemMetrics', 'LdrUnloadDll', 'NtClose', 'NtClose', 'LdrGetDllHandle', 'LdrGetProcedureAddress', 'NtClose', 'NtClose', 'NtClose', 'NtClose', 'NtClose', 'NtClose', 'NtClose', 'NtClose', 'NtFreeVirtualMemory', 'SetUnhandledExceptionFilter', 'NtTerminateProcess'], tags=['software_0'])"
      ]
     },
     "execution_count": 28,
     "metadata": {},
     "output_type": "execute_result"
    }
   ],
   "source": [
    "tagged_data[0]#tags = software_0"
   ]
  },
  {
   "cell_type": "code",
   "execution_count": 33,
   "metadata": {},
   "outputs": [
    {
     "data": {
      "text/plain": [
       "TaggedDocument(words=['GetSystemTimeAsFileTime', 'GetFileAttributesW', 'GetFileAttributesW', 'CreateActCtxW', 'CreateActCtxW', 'NtQuerySystemInformation', 'NtAllocateVirtualMemory', 'NtAllocateVirtualMemory', 'NtAllocateVirtualMemory', 'GetSystemDirectoryW', 'LdrGetDllHandle', 'LdrGetProcedureAddress', 'NtOpenSection', 'NtQueryAttributesFile', 'NtOpenFile', 'NtCreateSection', 'NtClose', 'NtMapViewOfSection', 'NtClose', 'NtOpenKey', 'GetUserNameW', 'LdrGetDllHandle', 'LdrGetProcedureAddress', 'NtProtectVirtualMemory', 'LdrGetProcedureAddress', 'LdrGetProcedureAddress', 'NtAllocateVirtualMemory', 'NtProtectVirtualMemory', 'NtFreeVirtualMemory', 'LdrGetDllHandle', 'LdrGetProcedureAddress', 'LdrGetProcedureAddress', 'LdrGetProcedureAddress', 'LdrGetDllHandle', 'LdrGetProcedureAddress', 'LdrGetDllHandle', 'LdrGetProcedureAddress', 'NtProtectVirtualMemory', 'NtProtectVirtualMemory', 'NtProtectVirtualMemory', 'NtProtectVirtualMemory', 'LdrGetProcedureAddress', 'NtAllocateVirtualMemory', 'LdrLoadDll', 'NtQuerySystemInformation', 'NtQuerySystemInformation', 'LdrLoadDll', 'WSAStartup', 'LdrLoadDll', 'LdrLoadDll', 'GetTempPathW', 'GetTempPathW', 'GetTempPathW', 'GetTempPathW', 'NtClose', 'GetTempPathW', 'NtCreateFile', 'LdrLoadDll', 'UuidCreate', 'NtCreateFile', 'NtWriteFile', 'NtClose', 'LdrLoadDll', 'CreateThread', 'NtClose', 'LdrLoadDll', 'NtCreateFile', 'socket', 'NtDelayExecution', 'NtDelayExecution', 'NtDelayExecution', 'NtDelayExecution', 'NtDelayExecution', 'NtDelayExecution', 'NtDelayExecution', 'NtDelayExecution', 'NtDelayExecution', 'NtDelayExecution', 'NtDelayExecution', 'NtDelayExecution', 'NtDelayExecution', 'NtDelayExecution', 'NtDelayExecution', 'NtDelayExecution', 'NtDelayExecution', 'NtDelayExecution', 'NtDelayExecution', 'NtDelayExecution', 'connect', 'closesocket', 'socket', 'NtDelayExecution', 'NtDelayExecution', 'NtDelayExecution', 'NtDelayExecution', 'NtDelayExecution', 'NtDelayExecution', 'NtDelayExecution', 'NtDelayExecution'], tags=['malware_5'])"
      ]
     },
     "execution_count": 33,
     "metadata": {},
     "output_type": "execute_result"
    }
   ],
   "source": [
    "tagged_data[2812]#tags = malware_5"
   ]
  },
  {
   "cell_type": "markdown",
   "metadata": {},
   "source": [
    "# 3. Doc2Vec 모델 생성하기\n",
    "https://radimrehurek.com/gensim/models/doc2vec.html"
   ]
  },
  {
   "cell_type": "code",
   "execution_count": 46,
   "metadata": {},
   "outputs": [],
   "source": [
    "#모델 파라미터 정하기.\n",
    "model = Doc2Vec(vector_size=50,#300이엿음\n",
    "                alpha=0.025,# 학습률. The initial learning rate.\n",
    "                min_alpha=0.025,# 훈련이 진행될때마다 해당 값으로 떨어짐. Learning rate will linearly drop to min_alpha as training progresses.\n",
    "                min_count=20,# 이 숫자보다 낮은 모든 단어를 무시함. Ignores all words with total frequency lower than this.\n",
    "                window = 15,# 문장 내의 현재 위치와 예측 단어간의 최대 거리. The maximum distance between the current and predicted word within a sentence.\n",
    "                dm =0, # distributed memory(dm) / distributed bag of words(dbow) / Defines the training algorithm. If dm=1, ‘distributed memory’ (PV-DM) is used. Otherwise, distributed bag of words (PV-DBOW) is employed.\n",
    "                worker_count =6,# 사용할 스레드 개수. Use these many worker threads to train the model (=faster training with multicore machines).\n",
    "                train_lbls=False#tags에 포함 학습 유무. 여기서 tags는 문장의 단어와 관련이 없으므로 False 설정\n",
    "               )"
   ]
  },
  {
   "cell_type": "code",
   "execution_count": 47,
   "metadata": {},
   "outputs": [],
   "source": [
    "model.build_vocab(tagged_data) #학습 전 빌드"
   ]
  },
  {
   "cell_type": "code",
   "execution_count": 48,
   "metadata": {},
   "outputs": [
    {
     "data": {
      "text/plain": [
       "8863"
      ]
     },
     "execution_count": 48,
     "metadata": {},
     "output_type": "execute_result"
    }
   ],
   "source": [
    "model.corpus_count# train 에서 total_examples의 파라미터 값. 여기선 sentence 와 corpus_count(말뭉치 개수)가 같다."
   ]
  },
  {
   "cell_type": "code",
   "execution_count": 49,
   "metadata": {},
   "outputs": [],
   "source": [
    "model.train(tagged_data,total_examples=model.corpus_count, epochs=30)#epoch 반복 횟수 30회 많으면 좋지만, 너무 많으면 시간이 오래걸림."
   ]
  },
  {
   "cell_type": "code",
   "execution_count": 50,
   "metadata": {},
   "outputs": [],
   "source": [
    "model_name = \"Doc2vec_model_vector30_window15_dm0\"\n",
    "model.save(model_name)#모델 저장하기"
   ]
  },
  {
   "cell_type": "code",
   "execution_count": null,
   "metadata": {},
   "outputs": [],
   "source": []
  }
 ],
 "metadata": {
  "kernelspec": {
   "display_name": "Python 3",
   "language": "python",
   "name": "python3"
  },
  "language_info": {
   "codemirror_mode": {
    "name": "ipython",
    "version": 3
   },
   "file_extension": ".py",
   "mimetype": "text/x-python",
   "name": "python",
   "nbconvert_exporter": "python",
   "pygments_lexer": "ipython3",
   "version": "3.6.5"
  }
 },
 "nbformat": 4,
 "nbformat_minor": 2
}
